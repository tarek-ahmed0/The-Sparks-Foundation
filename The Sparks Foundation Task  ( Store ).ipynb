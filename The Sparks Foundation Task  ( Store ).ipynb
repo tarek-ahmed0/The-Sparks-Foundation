{
 "cells": [
  {
   "cell_type": "markdown",
   "id": "1b03d1e1",
   "metadata": {},
   "source": [
    "### Import Libraries"
   ]
  },
  {
   "cell_type": "code",
   "execution_count": 1,
   "id": "f9853a9b",
   "metadata": {},
   "outputs": [],
   "source": [
    "import numpy as np\n",
    "import pandas as pd\n",
    "import matplotlib as mpl\n",
    "import matplotlib.pyplot as plt\n",
    "import seaborn as sns"
   ]
  },
  {
   "cell_type": "markdown",
   "id": "e4a701b2",
   "metadata": {},
   "source": [
    "### Data Ingestion"
   ]
  },
  {
   "cell_type": "code",
   "execution_count": 2,
   "id": "924f7d00",
   "metadata": {},
   "outputs": [],
   "source": [
    "data = pd.read_excel(r\"D:\\The Sparks Foundation Internship\\Data Analysis Task 1\\Dataset\\SampleSuperstore.xlsx\")"
   ]
  },
  {
   "cell_type": "markdown",
   "id": "4b92d887",
   "metadata": {},
   "source": [
    "### Data Overview"
   ]
  },
  {
   "cell_type": "code",
   "execution_count": 3,
   "id": "e2a6ccca",
   "metadata": {},
   "outputs": [
    {
     "data": {
      "text/html": [
       "<div>\n",
       "<style scoped>\n",
       "    .dataframe tbody tr th:only-of-type {\n",
       "        vertical-align: middle;\n",
       "    }\n",
       "\n",
       "    .dataframe tbody tr th {\n",
       "        vertical-align: top;\n",
       "    }\n",
       "\n",
       "    .dataframe thead th {\n",
       "        text-align: right;\n",
       "    }\n",
       "</style>\n",
       "<table border=\"1\" class=\"dataframe\">\n",
       "  <thead>\n",
       "    <tr style=\"text-align: right;\">\n",
       "      <th></th>\n",
       "      <th>Ship Mode</th>\n",
       "      <th>Segment</th>\n",
       "      <th>Country</th>\n",
       "      <th>City</th>\n",
       "      <th>State</th>\n",
       "      <th>Postal Code</th>\n",
       "      <th>Region</th>\n",
       "      <th>Category</th>\n",
       "      <th>Sub-Category</th>\n",
       "      <th>Sales</th>\n",
       "      <th>Quantity</th>\n",
       "      <th>Discount</th>\n",
       "      <th>Profit</th>\n",
       "    </tr>\n",
       "  </thead>\n",
       "  <tbody>\n",
       "    <tr>\n",
       "      <th>0</th>\n",
       "      <td>Second Class</td>\n",
       "      <td>Consumer</td>\n",
       "      <td>United States</td>\n",
       "      <td>Henderson</td>\n",
       "      <td>Kentucky</td>\n",
       "      <td>42420</td>\n",
       "      <td>South</td>\n",
       "      <td>Furniture</td>\n",
       "      <td>Bookcases</td>\n",
       "      <td>261.9600</td>\n",
       "      <td>2</td>\n",
       "      <td>0.00</td>\n",
       "      <td>41.9136</td>\n",
       "    </tr>\n",
       "    <tr>\n",
       "      <th>1</th>\n",
       "      <td>Second Class</td>\n",
       "      <td>Consumer</td>\n",
       "      <td>United States</td>\n",
       "      <td>Henderson</td>\n",
       "      <td>Kentucky</td>\n",
       "      <td>42420</td>\n",
       "      <td>South</td>\n",
       "      <td>Furniture</td>\n",
       "      <td>Chairs</td>\n",
       "      <td>731.9400</td>\n",
       "      <td>3</td>\n",
       "      <td>0.00</td>\n",
       "      <td>219.5820</td>\n",
       "    </tr>\n",
       "    <tr>\n",
       "      <th>2</th>\n",
       "      <td>Second Class</td>\n",
       "      <td>Corporate</td>\n",
       "      <td>United States</td>\n",
       "      <td>Los Angeles</td>\n",
       "      <td>California</td>\n",
       "      <td>90036</td>\n",
       "      <td>West</td>\n",
       "      <td>Office Supplies</td>\n",
       "      <td>Labels</td>\n",
       "      <td>14.6200</td>\n",
       "      <td>2</td>\n",
       "      <td>0.00</td>\n",
       "      <td>6.8714</td>\n",
       "    </tr>\n",
       "    <tr>\n",
       "      <th>3</th>\n",
       "      <td>Standard Class</td>\n",
       "      <td>Consumer</td>\n",
       "      <td>United States</td>\n",
       "      <td>Fort Lauderdale</td>\n",
       "      <td>Florida</td>\n",
       "      <td>33311</td>\n",
       "      <td>South</td>\n",
       "      <td>Furniture</td>\n",
       "      <td>Tables</td>\n",
       "      <td>957.5775</td>\n",
       "      <td>5</td>\n",
       "      <td>0.45</td>\n",
       "      <td>-383.0310</td>\n",
       "    </tr>\n",
       "    <tr>\n",
       "      <th>4</th>\n",
       "      <td>Standard Class</td>\n",
       "      <td>Consumer</td>\n",
       "      <td>United States</td>\n",
       "      <td>Fort Lauderdale</td>\n",
       "      <td>Florida</td>\n",
       "      <td>33311</td>\n",
       "      <td>South</td>\n",
       "      <td>Office Supplies</td>\n",
       "      <td>Storage</td>\n",
       "      <td>22.3680</td>\n",
       "      <td>2</td>\n",
       "      <td>0.20</td>\n",
       "      <td>2.5164</td>\n",
       "    </tr>\n",
       "  </tbody>\n",
       "</table>\n",
       "</div>"
      ],
      "text/plain": [
       "        Ship Mode    Segment        Country             City       State  \\\n",
       "0    Second Class   Consumer  United States        Henderson    Kentucky   \n",
       "1    Second Class   Consumer  United States        Henderson    Kentucky   \n",
       "2    Second Class  Corporate  United States      Los Angeles  California   \n",
       "3  Standard Class   Consumer  United States  Fort Lauderdale     Florida   \n",
       "4  Standard Class   Consumer  United States  Fort Lauderdale     Florida   \n",
       "\n",
       "   Postal Code Region         Category Sub-Category     Sales  Quantity  \\\n",
       "0        42420  South        Furniture    Bookcases  261.9600         2   \n",
       "1        42420  South        Furniture       Chairs  731.9400         3   \n",
       "2        90036   West  Office Supplies       Labels   14.6200         2   \n",
       "3        33311  South        Furniture       Tables  957.5775         5   \n",
       "4        33311  South  Office Supplies      Storage   22.3680         2   \n",
       "\n",
       "   Discount    Profit  \n",
       "0      0.00   41.9136  \n",
       "1      0.00  219.5820  \n",
       "2      0.00    6.8714  \n",
       "3      0.45 -383.0310  \n",
       "4      0.20    2.5164  "
      ]
     },
     "execution_count": 3,
     "metadata": {},
     "output_type": "execute_result"
    }
   ],
   "source": [
    "data.head()"
   ]
  },
  {
   "cell_type": "code",
   "execution_count": 4,
   "id": "7ceff7c6",
   "metadata": {},
   "outputs": [
    {
     "data": {
      "text/html": [
       "<div>\n",
       "<style scoped>\n",
       "    .dataframe tbody tr th:only-of-type {\n",
       "        vertical-align: middle;\n",
       "    }\n",
       "\n",
       "    .dataframe tbody tr th {\n",
       "        vertical-align: top;\n",
       "    }\n",
       "\n",
       "    .dataframe thead th {\n",
       "        text-align: right;\n",
       "    }\n",
       "</style>\n",
       "<table border=\"1\" class=\"dataframe\">\n",
       "  <thead>\n",
       "    <tr style=\"text-align: right;\">\n",
       "      <th></th>\n",
       "      <th>Ship Mode</th>\n",
       "      <th>Segment</th>\n",
       "      <th>Country</th>\n",
       "      <th>City</th>\n",
       "      <th>State</th>\n",
       "      <th>Postal Code</th>\n",
       "      <th>Region</th>\n",
       "      <th>Category</th>\n",
       "      <th>Sub-Category</th>\n",
       "      <th>Sales</th>\n",
       "      <th>Quantity</th>\n",
       "      <th>Discount</th>\n",
       "      <th>Profit</th>\n",
       "    </tr>\n",
       "  </thead>\n",
       "  <tbody>\n",
       "    <tr>\n",
       "      <th>9989</th>\n",
       "      <td>Second Class</td>\n",
       "      <td>Consumer</td>\n",
       "      <td>United States</td>\n",
       "      <td>Miami</td>\n",
       "      <td>Florida</td>\n",
       "      <td>33180</td>\n",
       "      <td>South</td>\n",
       "      <td>Furniture</td>\n",
       "      <td>Furnishings</td>\n",
       "      <td>25.248</td>\n",
       "      <td>3</td>\n",
       "      <td>0.2</td>\n",
       "      <td>4.1028</td>\n",
       "    </tr>\n",
       "    <tr>\n",
       "      <th>9990</th>\n",
       "      <td>Standard Class</td>\n",
       "      <td>Consumer</td>\n",
       "      <td>United States</td>\n",
       "      <td>Costa Mesa</td>\n",
       "      <td>California</td>\n",
       "      <td>92627</td>\n",
       "      <td>West</td>\n",
       "      <td>Furniture</td>\n",
       "      <td>Furnishings</td>\n",
       "      <td>91.960</td>\n",
       "      <td>2</td>\n",
       "      <td>0.0</td>\n",
       "      <td>15.6332</td>\n",
       "    </tr>\n",
       "    <tr>\n",
       "      <th>9991</th>\n",
       "      <td>Standard Class</td>\n",
       "      <td>Consumer</td>\n",
       "      <td>United States</td>\n",
       "      <td>Costa Mesa</td>\n",
       "      <td>California</td>\n",
       "      <td>92627</td>\n",
       "      <td>West</td>\n",
       "      <td>Technology</td>\n",
       "      <td>Phones</td>\n",
       "      <td>258.576</td>\n",
       "      <td>2</td>\n",
       "      <td>0.2</td>\n",
       "      <td>19.3932</td>\n",
       "    </tr>\n",
       "    <tr>\n",
       "      <th>9992</th>\n",
       "      <td>Standard Class</td>\n",
       "      <td>Consumer</td>\n",
       "      <td>United States</td>\n",
       "      <td>Costa Mesa</td>\n",
       "      <td>California</td>\n",
       "      <td>92627</td>\n",
       "      <td>West</td>\n",
       "      <td>Office Supplies</td>\n",
       "      <td>Paper</td>\n",
       "      <td>29.600</td>\n",
       "      <td>4</td>\n",
       "      <td>0.0</td>\n",
       "      <td>13.3200</td>\n",
       "    </tr>\n",
       "    <tr>\n",
       "      <th>9993</th>\n",
       "      <td>Second Class</td>\n",
       "      <td>Consumer</td>\n",
       "      <td>United States</td>\n",
       "      <td>Westminster</td>\n",
       "      <td>California</td>\n",
       "      <td>92683</td>\n",
       "      <td>West</td>\n",
       "      <td>Office Supplies</td>\n",
       "      <td>Appliances</td>\n",
       "      <td>243.160</td>\n",
       "      <td>2</td>\n",
       "      <td>0.0</td>\n",
       "      <td>72.9480</td>\n",
       "    </tr>\n",
       "  </tbody>\n",
       "</table>\n",
       "</div>"
      ],
      "text/plain": [
       "           Ship Mode   Segment        Country         City       State  \\\n",
       "9989    Second Class  Consumer  United States        Miami     Florida   \n",
       "9990  Standard Class  Consumer  United States   Costa Mesa  California   \n",
       "9991  Standard Class  Consumer  United States   Costa Mesa  California   \n",
       "9992  Standard Class  Consumer  United States   Costa Mesa  California   \n",
       "9993    Second Class  Consumer  United States  Westminster  California   \n",
       "\n",
       "      Postal Code Region         Category Sub-Category    Sales  Quantity  \\\n",
       "9989        33180  South        Furniture  Furnishings   25.248         3   \n",
       "9990        92627   West        Furniture  Furnishings   91.960         2   \n",
       "9991        92627   West       Technology       Phones  258.576         2   \n",
       "9992        92627   West  Office Supplies        Paper   29.600         4   \n",
       "9993        92683   West  Office Supplies   Appliances  243.160         2   \n",
       "\n",
       "      Discount   Profit  \n",
       "9989       0.2   4.1028  \n",
       "9990       0.0  15.6332  \n",
       "9991       0.2  19.3932  \n",
       "9992       0.0  13.3200  \n",
       "9993       0.0  72.9480  "
      ]
     },
     "execution_count": 4,
     "metadata": {},
     "output_type": "execute_result"
    }
   ],
   "source": [
    "data.tail()"
   ]
  },
  {
   "cell_type": "code",
   "execution_count": 5,
   "id": "8e445aae",
   "metadata": {},
   "outputs": [
    {
     "name": "stdout",
     "output_type": "stream",
     "text": [
      "<class 'pandas.core.frame.DataFrame'>\n",
      "RangeIndex: 9994 entries, 0 to 9993\n",
      "Data columns (total 13 columns):\n",
      " #   Column        Non-Null Count  Dtype  \n",
      "---  ------        --------------  -----  \n",
      " 0   Ship Mode     9994 non-null   object \n",
      " 1   Segment       9994 non-null   object \n",
      " 2   Country       9994 non-null   object \n",
      " 3   City          9994 non-null   object \n",
      " 4   State         9994 non-null   object \n",
      " 5   Postal Code   9994 non-null   int64  \n",
      " 6   Region        9994 non-null   object \n",
      " 7   Category      9994 non-null   object \n",
      " 8   Sub-Category  9994 non-null   object \n",
      " 9   Sales         9994 non-null   float64\n",
      " 10  Quantity      9994 non-null   int64  \n",
      " 11  Discount      9994 non-null   float64\n",
      " 12  Profit        9994 non-null   float64\n",
      "dtypes: float64(3), int64(2), object(8)\n",
      "memory usage: 1015.1+ KB\n"
     ]
    }
   ],
   "source": [
    "data.info()"
   ]
  },
  {
   "cell_type": "code",
   "execution_count": 6,
   "id": "84568988",
   "metadata": {
    "scrolled": true
   },
   "outputs": [
    {
     "data": {
      "text/html": [
       "<div>\n",
       "<style scoped>\n",
       "    .dataframe tbody tr th:only-of-type {\n",
       "        vertical-align: middle;\n",
       "    }\n",
       "\n",
       "    .dataframe tbody tr th {\n",
       "        vertical-align: top;\n",
       "    }\n",
       "\n",
       "    .dataframe thead th {\n",
       "        text-align: right;\n",
       "    }\n",
       "</style>\n",
       "<table border=\"1\" class=\"dataframe\">\n",
       "  <thead>\n",
       "    <tr style=\"text-align: right;\">\n",
       "      <th></th>\n",
       "      <th>Postal Code</th>\n",
       "      <th>Sales</th>\n",
       "      <th>Quantity</th>\n",
       "      <th>Discount</th>\n",
       "      <th>Profit</th>\n",
       "    </tr>\n",
       "  </thead>\n",
       "  <tbody>\n",
       "    <tr>\n",
       "      <th>count</th>\n",
       "      <td>9994.0</td>\n",
       "      <td>9994.0</td>\n",
       "      <td>9994.0</td>\n",
       "      <td>9994.0</td>\n",
       "      <td>9994.0</td>\n",
       "    </tr>\n",
       "    <tr>\n",
       "      <th>mean</th>\n",
       "      <td>55190.0</td>\n",
       "      <td>230.0</td>\n",
       "      <td>4.0</td>\n",
       "      <td>0.0</td>\n",
       "      <td>29.0</td>\n",
       "    </tr>\n",
       "    <tr>\n",
       "      <th>std</th>\n",
       "      <td>32064.0</td>\n",
       "      <td>623.0</td>\n",
       "      <td>2.0</td>\n",
       "      <td>0.0</td>\n",
       "      <td>234.0</td>\n",
       "    </tr>\n",
       "    <tr>\n",
       "      <th>min</th>\n",
       "      <td>1040.0</td>\n",
       "      <td>0.0</td>\n",
       "      <td>1.0</td>\n",
       "      <td>0.0</td>\n",
       "      <td>-6600.0</td>\n",
       "    </tr>\n",
       "    <tr>\n",
       "      <th>25%</th>\n",
       "      <td>23223.0</td>\n",
       "      <td>17.0</td>\n",
       "      <td>2.0</td>\n",
       "      <td>0.0</td>\n",
       "      <td>2.0</td>\n",
       "    </tr>\n",
       "    <tr>\n",
       "      <th>50%</th>\n",
       "      <td>56430.0</td>\n",
       "      <td>54.0</td>\n",
       "      <td>3.0</td>\n",
       "      <td>0.0</td>\n",
       "      <td>9.0</td>\n",
       "    </tr>\n",
       "    <tr>\n",
       "      <th>75%</th>\n",
       "      <td>90008.0</td>\n",
       "      <td>210.0</td>\n",
       "      <td>5.0</td>\n",
       "      <td>0.0</td>\n",
       "      <td>29.0</td>\n",
       "    </tr>\n",
       "    <tr>\n",
       "      <th>max</th>\n",
       "      <td>99301.0</td>\n",
       "      <td>22638.0</td>\n",
       "      <td>14.0</td>\n",
       "      <td>1.0</td>\n",
       "      <td>8400.0</td>\n",
       "    </tr>\n",
       "  </tbody>\n",
       "</table>\n",
       "</div>"
      ],
      "text/plain": [
       "       Postal Code    Sales  Quantity  Discount  Profit\n",
       "count       9994.0   9994.0    9994.0    9994.0  9994.0\n",
       "mean       55190.0    230.0       4.0       0.0    29.0\n",
       "std        32064.0    623.0       2.0       0.0   234.0\n",
       "min         1040.0      0.0       1.0       0.0 -6600.0\n",
       "25%        23223.0     17.0       2.0       0.0     2.0\n",
       "50%        56430.0     54.0       3.0       0.0     9.0\n",
       "75%        90008.0    210.0       5.0       0.0    29.0\n",
       "max        99301.0  22638.0      14.0       1.0  8400.0"
      ]
     },
     "execution_count": 6,
     "metadata": {},
     "output_type": "execute_result"
    }
   ],
   "source": [
    "data.describe().round()"
   ]
  },
  {
   "cell_type": "markdown",
   "id": "02042510",
   "metadata": {},
   "source": [
    "### Data Cleaning"
   ]
  },
  {
   "cell_type": "markdown",
   "id": "2a25ae19",
   "metadata": {},
   "source": [
    "#### • Convert ' Discount ' column from Float into Int."
   ]
  },
  {
   "cell_type": "code",
   "execution_count": 7,
   "id": "85b0d603",
   "metadata": {},
   "outputs": [],
   "source": [
    "data[\"Discount\"] = data[\"Discount\"].astype(float).astype(int)"
   ]
  },
  {
   "cell_type": "code",
   "execution_count": 8,
   "id": "026fcc78",
   "metadata": {},
   "outputs": [
    {
     "data": {
      "text/html": [
       "<div>\n",
       "<style scoped>\n",
       "    .dataframe tbody tr th:only-of-type {\n",
       "        vertical-align: middle;\n",
       "    }\n",
       "\n",
       "    .dataframe tbody tr th {\n",
       "        vertical-align: top;\n",
       "    }\n",
       "\n",
       "    .dataframe thead th {\n",
       "        text-align: right;\n",
       "    }\n",
       "</style>\n",
       "<table border=\"1\" class=\"dataframe\">\n",
       "  <thead>\n",
       "    <tr style=\"text-align: right;\">\n",
       "      <th></th>\n",
       "      <th>Ship Mode</th>\n",
       "      <th>Segment</th>\n",
       "      <th>Country</th>\n",
       "      <th>City</th>\n",
       "      <th>State</th>\n",
       "      <th>Postal Code</th>\n",
       "      <th>Region</th>\n",
       "      <th>Category</th>\n",
       "      <th>Sub-Category</th>\n",
       "      <th>Sales</th>\n",
       "      <th>Quantity</th>\n",
       "      <th>Discount</th>\n",
       "      <th>Profit</th>\n",
       "    </tr>\n",
       "  </thead>\n",
       "  <tbody>\n",
       "    <tr>\n",
       "      <th>0</th>\n",
       "      <td>Second Class</td>\n",
       "      <td>Consumer</td>\n",
       "      <td>United States</td>\n",
       "      <td>Henderson</td>\n",
       "      <td>Kentucky</td>\n",
       "      <td>42420</td>\n",
       "      <td>South</td>\n",
       "      <td>Furniture</td>\n",
       "      <td>Bookcases</td>\n",
       "      <td>261.96</td>\n",
       "      <td>2</td>\n",
       "      <td>0</td>\n",
       "      <td>41.9136</td>\n",
       "    </tr>\n",
       "    <tr>\n",
       "      <th>1</th>\n",
       "      <td>Second Class</td>\n",
       "      <td>Consumer</td>\n",
       "      <td>United States</td>\n",
       "      <td>Henderson</td>\n",
       "      <td>Kentucky</td>\n",
       "      <td>42420</td>\n",
       "      <td>South</td>\n",
       "      <td>Furniture</td>\n",
       "      <td>Chairs</td>\n",
       "      <td>731.94</td>\n",
       "      <td>3</td>\n",
       "      <td>0</td>\n",
       "      <td>219.5820</td>\n",
       "    </tr>\n",
       "    <tr>\n",
       "      <th>2</th>\n",
       "      <td>Second Class</td>\n",
       "      <td>Corporate</td>\n",
       "      <td>United States</td>\n",
       "      <td>Los Angeles</td>\n",
       "      <td>California</td>\n",
       "      <td>90036</td>\n",
       "      <td>West</td>\n",
       "      <td>Office Supplies</td>\n",
       "      <td>Labels</td>\n",
       "      <td>14.62</td>\n",
       "      <td>2</td>\n",
       "      <td>0</td>\n",
       "      <td>6.8714</td>\n",
       "    </tr>\n",
       "  </tbody>\n",
       "</table>\n",
       "</div>"
      ],
      "text/plain": [
       "      Ship Mode    Segment        Country         City       State  \\\n",
       "0  Second Class   Consumer  United States    Henderson    Kentucky   \n",
       "1  Second Class   Consumer  United States    Henderson    Kentucky   \n",
       "2  Second Class  Corporate  United States  Los Angeles  California   \n",
       "\n",
       "   Postal Code Region         Category Sub-Category   Sales  Quantity  \\\n",
       "0        42420  South        Furniture    Bookcases  261.96         2   \n",
       "1        42420  South        Furniture       Chairs  731.94         3   \n",
       "2        90036   West  Office Supplies       Labels   14.62         2   \n",
       "\n",
       "   Discount    Profit  \n",
       "0         0   41.9136  \n",
       "1         0  219.5820  \n",
       "2         0    6.8714  "
      ]
     },
     "execution_count": 8,
     "metadata": {},
     "output_type": "execute_result"
    }
   ],
   "source": [
    "data.head(3)"
   ]
  },
  {
   "cell_type": "markdown",
   "id": "9fbf1f05",
   "metadata": {},
   "source": [
    "#### • Convert ' Postal Code ' column data type into object instead of integar."
   ]
  },
  {
   "cell_type": "code",
   "execution_count": 9,
   "id": "f8a77d74",
   "metadata": {},
   "outputs": [],
   "source": [
    "data[\"Postal Code\"] = data[\"Postal Code\"].astype(int).astype(str)"
   ]
  },
  {
   "cell_type": "code",
   "execution_count": 10,
   "id": "c68648b9",
   "metadata": {},
   "outputs": [
    {
     "data": {
      "text/html": [
       "<div>\n",
       "<style scoped>\n",
       "    .dataframe tbody tr th:only-of-type {\n",
       "        vertical-align: middle;\n",
       "    }\n",
       "\n",
       "    .dataframe tbody tr th {\n",
       "        vertical-align: top;\n",
       "    }\n",
       "\n",
       "    .dataframe thead th {\n",
       "        text-align: right;\n",
       "    }\n",
       "</style>\n",
       "<table border=\"1\" class=\"dataframe\">\n",
       "  <thead>\n",
       "    <tr style=\"text-align: right;\">\n",
       "      <th></th>\n",
       "      <th>Ship Mode</th>\n",
       "      <th>Segment</th>\n",
       "      <th>Country</th>\n",
       "      <th>City</th>\n",
       "      <th>State</th>\n",
       "      <th>Postal Code</th>\n",
       "      <th>Region</th>\n",
       "      <th>Category</th>\n",
       "      <th>Sub-Category</th>\n",
       "      <th>Sales</th>\n",
       "      <th>Quantity</th>\n",
       "      <th>Discount</th>\n",
       "      <th>Profit</th>\n",
       "    </tr>\n",
       "  </thead>\n",
       "  <tbody>\n",
       "    <tr>\n",
       "      <th>0</th>\n",
       "      <td>Second Class</td>\n",
       "      <td>Consumer</td>\n",
       "      <td>United States</td>\n",
       "      <td>Henderson</td>\n",
       "      <td>Kentucky</td>\n",
       "      <td>42420</td>\n",
       "      <td>South</td>\n",
       "      <td>Furniture</td>\n",
       "      <td>Bookcases</td>\n",
       "      <td>261.96</td>\n",
       "      <td>2</td>\n",
       "      <td>0</td>\n",
       "      <td>41.9136</td>\n",
       "    </tr>\n",
       "    <tr>\n",
       "      <th>1</th>\n",
       "      <td>Second Class</td>\n",
       "      <td>Consumer</td>\n",
       "      <td>United States</td>\n",
       "      <td>Henderson</td>\n",
       "      <td>Kentucky</td>\n",
       "      <td>42420</td>\n",
       "      <td>South</td>\n",
       "      <td>Furniture</td>\n",
       "      <td>Chairs</td>\n",
       "      <td>731.94</td>\n",
       "      <td>3</td>\n",
       "      <td>0</td>\n",
       "      <td>219.5820</td>\n",
       "    </tr>\n",
       "    <tr>\n",
       "      <th>2</th>\n",
       "      <td>Second Class</td>\n",
       "      <td>Corporate</td>\n",
       "      <td>United States</td>\n",
       "      <td>Los Angeles</td>\n",
       "      <td>California</td>\n",
       "      <td>90036</td>\n",
       "      <td>West</td>\n",
       "      <td>Office Supplies</td>\n",
       "      <td>Labels</td>\n",
       "      <td>14.62</td>\n",
       "      <td>2</td>\n",
       "      <td>0</td>\n",
       "      <td>6.8714</td>\n",
       "    </tr>\n",
       "  </tbody>\n",
       "</table>\n",
       "</div>"
      ],
      "text/plain": [
       "      Ship Mode    Segment        Country         City       State  \\\n",
       "0  Second Class   Consumer  United States    Henderson    Kentucky   \n",
       "1  Second Class   Consumer  United States    Henderson    Kentucky   \n",
       "2  Second Class  Corporate  United States  Los Angeles  California   \n",
       "\n",
       "  Postal Code Region         Category Sub-Category   Sales  Quantity  \\\n",
       "0       42420  South        Furniture    Bookcases  261.96         2   \n",
       "1       42420  South        Furniture       Chairs  731.94         3   \n",
       "2       90036   West  Office Supplies       Labels   14.62         2   \n",
       "\n",
       "   Discount    Profit  \n",
       "0         0   41.9136  \n",
       "1         0  219.5820  \n",
       "2         0    6.8714  "
      ]
     },
     "execution_count": 10,
     "metadata": {},
     "output_type": "execute_result"
    }
   ],
   "source": [
    "data.head(3)"
   ]
  },
  {
   "cell_type": "markdown",
   "id": "f55b130a",
   "metadata": {},
   "source": [
    " ### Data Exploration ( EDA )"
   ]
  },
  {
   "cell_type": "markdown",
   "id": "7220ef1f",
   "metadata": {},
   "source": [
    "#### • Find out the weak areas where you can work to make more profit "
   ]
  },
  {
   "cell_type": "code",
   "execution_count": 11,
   "id": "daeed56f",
   "metadata": {
    "scrolled": false
   },
   "outputs": [],
   "source": [
    "neg_profit = data[data[\"Profit\"] < 0].sort_values(by = \"Profit\", ascending = True)"
   ]
  },
  {
   "cell_type": "code",
   "execution_count": 12,
   "id": "c9b17a8d",
   "metadata": {},
   "outputs": [
    {
     "data": {
      "text/html": [
       "<div>\n",
       "<style scoped>\n",
       "    .dataframe tbody tr th:only-of-type {\n",
       "        vertical-align: middle;\n",
       "    }\n",
       "\n",
       "    .dataframe tbody tr th {\n",
       "        vertical-align: top;\n",
       "    }\n",
       "\n",
       "    .dataframe thead th {\n",
       "        text-align: right;\n",
       "    }\n",
       "</style>\n",
       "<table border=\"1\" class=\"dataframe\">\n",
       "  <thead>\n",
       "    <tr style=\"text-align: right;\">\n",
       "      <th></th>\n",
       "      <th>Ship Mode</th>\n",
       "      <th>Segment</th>\n",
       "      <th>Country</th>\n",
       "      <th>City</th>\n",
       "      <th>State</th>\n",
       "      <th>Postal Code</th>\n",
       "      <th>Region</th>\n",
       "      <th>Category</th>\n",
       "      <th>Sub-Category</th>\n",
       "      <th>Sales</th>\n",
       "      <th>Quantity</th>\n",
       "      <th>Discount</th>\n",
       "      <th>Profit</th>\n",
       "    </tr>\n",
       "  </thead>\n",
       "  <tbody>\n",
       "    <tr>\n",
       "      <th>7772</th>\n",
       "      <td>Standard Class</td>\n",
       "      <td>Consumer</td>\n",
       "      <td>United States</td>\n",
       "      <td>Lancaster</td>\n",
       "      <td>Ohio</td>\n",
       "      <td>43130</td>\n",
       "      <td>East</td>\n",
       "      <td>Technology</td>\n",
       "      <td>Machines</td>\n",
       "      <td>4499.985</td>\n",
       "      <td>5</td>\n",
       "      <td>0</td>\n",
       "      <td>-6599.9780</td>\n",
       "    </tr>\n",
       "    <tr>\n",
       "      <th>683</th>\n",
       "      <td>Same Day</td>\n",
       "      <td>Corporate</td>\n",
       "      <td>United States</td>\n",
       "      <td>Burlington</td>\n",
       "      <td>North Carolina</td>\n",
       "      <td>27217</td>\n",
       "      <td>South</td>\n",
       "      <td>Technology</td>\n",
       "      <td>Machines</td>\n",
       "      <td>7999.980</td>\n",
       "      <td>4</td>\n",
       "      <td>0</td>\n",
       "      <td>-3839.9904</td>\n",
       "    </tr>\n",
       "    <tr>\n",
       "      <th>9774</th>\n",
       "      <td>Standard Class</td>\n",
       "      <td>Consumer</td>\n",
       "      <td>United States</td>\n",
       "      <td>San Antonio</td>\n",
       "      <td>Texas</td>\n",
       "      <td>78207</td>\n",
       "      <td>Central</td>\n",
       "      <td>Office Supplies</td>\n",
       "      <td>Binders</td>\n",
       "      <td>2177.584</td>\n",
       "      <td>8</td>\n",
       "      <td>0</td>\n",
       "      <td>-3701.8928</td>\n",
       "    </tr>\n",
       "    <tr>\n",
       "      <th>3011</th>\n",
       "      <td>Standard Class</td>\n",
       "      <td>Home Office</td>\n",
       "      <td>United States</td>\n",
       "      <td>Louisville</td>\n",
       "      <td>Colorado</td>\n",
       "      <td>80027</td>\n",
       "      <td>West</td>\n",
       "      <td>Technology</td>\n",
       "      <td>Machines</td>\n",
       "      <td>2549.985</td>\n",
       "      <td>5</td>\n",
       "      <td>0</td>\n",
       "      <td>-3399.9800</td>\n",
       "    </tr>\n",
       "    <tr>\n",
       "      <th>4991</th>\n",
       "      <td>Standard Class</td>\n",
       "      <td>Corporate</td>\n",
       "      <td>United States</td>\n",
       "      <td>Chicago</td>\n",
       "      <td>Illinois</td>\n",
       "      <td>60653</td>\n",
       "      <td>Central</td>\n",
       "      <td>Office Supplies</td>\n",
       "      <td>Binders</td>\n",
       "      <td>1889.990</td>\n",
       "      <td>5</td>\n",
       "      <td>0</td>\n",
       "      <td>-2929.4845</td>\n",
       "    </tr>\n",
       "    <tr>\n",
       "      <th>...</th>\n",
       "      <td>...</td>\n",
       "      <td>...</td>\n",
       "      <td>...</td>\n",
       "      <td>...</td>\n",
       "      <td>...</td>\n",
       "      <td>...</td>\n",
       "      <td>...</td>\n",
       "      <td>...</td>\n",
       "      <td>...</td>\n",
       "      <td>...</td>\n",
       "      <td>...</td>\n",
       "      <td>...</td>\n",
       "      <td>...</td>\n",
       "    </tr>\n",
       "    <tr>\n",
       "      <th>4660</th>\n",
       "      <td>Standard Class</td>\n",
       "      <td>Consumer</td>\n",
       "      <td>United States</td>\n",
       "      <td>Philadelphia</td>\n",
       "      <td>Pennsylvania</td>\n",
       "      <td>19140</td>\n",
       "      <td>East</td>\n",
       "      <td>Technology</td>\n",
       "      <td>Accessories</td>\n",
       "      <td>27.552</td>\n",
       "      <td>3</td>\n",
       "      <td>0</td>\n",
       "      <td>-0.3444</td>\n",
       "    </tr>\n",
       "    <tr>\n",
       "      <th>7413</th>\n",
       "      <td>Standard Class</td>\n",
       "      <td>Home Office</td>\n",
       "      <td>United States</td>\n",
       "      <td>Tigard</td>\n",
       "      <td>Oregon</td>\n",
       "      <td>97224</td>\n",
       "      <td>West</td>\n",
       "      <td>Furniture</td>\n",
       "      <td>Furnishings</td>\n",
       "      <td>13.592</td>\n",
       "      <td>1</td>\n",
       "      <td>0</td>\n",
       "      <td>-0.3398</td>\n",
       "    </tr>\n",
       "    <tr>\n",
       "      <th>1566</th>\n",
       "      <td>First Class</td>\n",
       "      <td>Consumer</td>\n",
       "      <td>United States</td>\n",
       "      <td>Allen</td>\n",
       "      <td>Texas</td>\n",
       "      <td>75002</td>\n",
       "      <td>Central</td>\n",
       "      <td>Technology</td>\n",
       "      <td>Accessories</td>\n",
       "      <td>21.480</td>\n",
       "      <td>3</td>\n",
       "      <td>0</td>\n",
       "      <td>-0.2685</td>\n",
       "    </tr>\n",
       "    <tr>\n",
       "      <th>1496</th>\n",
       "      <td>Standard Class</td>\n",
       "      <td>Consumer</td>\n",
       "      <td>United States</td>\n",
       "      <td>Coppell</td>\n",
       "      <td>Texas</td>\n",
       "      <td>75019</td>\n",
       "      <td>Central</td>\n",
       "      <td>Office Supplies</td>\n",
       "      <td>Storage</td>\n",
       "      <td>16.784</td>\n",
       "      <td>1</td>\n",
       "      <td>0</td>\n",
       "      <td>-0.2098</td>\n",
       "    </tr>\n",
       "    <tr>\n",
       "      <th>3228</th>\n",
       "      <td>First Class</td>\n",
       "      <td>Corporate</td>\n",
       "      <td>United States</td>\n",
       "      <td>Tempe</td>\n",
       "      <td>Arizona</td>\n",
       "      <td>85281</td>\n",
       "      <td>West</td>\n",
       "      <td>Technology</td>\n",
       "      <td>Accessories</td>\n",
       "      <td>7.160</td>\n",
       "      <td>1</td>\n",
       "      <td>0</td>\n",
       "      <td>-0.0895</td>\n",
       "    </tr>\n",
       "  </tbody>\n",
       "</table>\n",
       "<p>1871 rows × 13 columns</p>\n",
       "</div>"
      ],
      "text/plain": [
       "           Ship Mode      Segment        Country          City  \\\n",
       "7772  Standard Class     Consumer  United States     Lancaster   \n",
       "683         Same Day    Corporate  United States    Burlington   \n",
       "9774  Standard Class     Consumer  United States   San Antonio   \n",
       "3011  Standard Class  Home Office  United States    Louisville   \n",
       "4991  Standard Class    Corporate  United States       Chicago   \n",
       "...              ...          ...            ...           ...   \n",
       "4660  Standard Class     Consumer  United States  Philadelphia   \n",
       "7413  Standard Class  Home Office  United States        Tigard   \n",
       "1566     First Class     Consumer  United States         Allen   \n",
       "1496  Standard Class     Consumer  United States       Coppell   \n",
       "3228     First Class    Corporate  United States         Tempe   \n",
       "\n",
       "               State Postal Code   Region         Category Sub-Category  \\\n",
       "7772            Ohio       43130     East       Technology     Machines   \n",
       "683   North Carolina       27217    South       Technology     Machines   \n",
       "9774           Texas       78207  Central  Office Supplies      Binders   \n",
       "3011        Colorado       80027     West       Technology     Machines   \n",
       "4991        Illinois       60653  Central  Office Supplies      Binders   \n",
       "...              ...         ...      ...              ...          ...   \n",
       "4660    Pennsylvania       19140     East       Technology  Accessories   \n",
       "7413          Oregon       97224     West        Furniture  Furnishings   \n",
       "1566           Texas       75002  Central       Technology  Accessories   \n",
       "1496           Texas       75019  Central  Office Supplies      Storage   \n",
       "3228         Arizona       85281     West       Technology  Accessories   \n",
       "\n",
       "         Sales  Quantity  Discount     Profit  \n",
       "7772  4499.985         5         0 -6599.9780  \n",
       "683   7999.980         4         0 -3839.9904  \n",
       "9774  2177.584         8         0 -3701.8928  \n",
       "3011  2549.985         5         0 -3399.9800  \n",
       "4991  1889.990         5         0 -2929.4845  \n",
       "...        ...       ...       ...        ...  \n",
       "4660    27.552         3         0    -0.3444  \n",
       "7413    13.592         1         0    -0.3398  \n",
       "1566    21.480         3         0    -0.2685  \n",
       "1496    16.784         1         0    -0.2098  \n",
       "3228     7.160         1         0    -0.0895  \n",
       "\n",
       "[1871 rows x 13 columns]"
      ]
     },
     "execution_count": 12,
     "metadata": {},
     "output_type": "execute_result"
    }
   ],
   "source": [
    "neg_profit"
   ]
  },
  {
   "cell_type": "code",
   "execution_count": 13,
   "id": "776590ef",
   "metadata": {},
   "outputs": [
    {
     "name": "stdout",
     "output_type": "stream",
     "text": [
      "Lancaster\n",
      "Burlington\n",
      "San Antonio\n",
      "Louisville\n",
      "Chicago\n",
      "Newark\n",
      "Houston\n",
      "Concord\n",
      "Jacksonville\n",
      "Philadelphia\n",
      "Memphis\n",
      "Dallas\n",
      "Clarksville\n",
      "Miami\n",
      "Knoxville\n",
      "Columbia\n",
      "Medina\n",
      "Charlotte\n",
      "Pueblo\n",
      "Springfield\n",
      "Bethlehem\n",
      "Nashville\n",
      "Phoenix\n",
      "Colorado Springs\n",
      "Round Rock\n",
      "Lorain\n",
      "Rockford\n",
      "Greenville\n",
      "New York City\n",
      "Oswego\n",
      "Aurora\n",
      "Carrollton\n",
      "Yuma\n",
      "Marion\n",
      "Waco\n",
      "Bloomington\n",
      "Dublin\n",
      "Fort Lauderdale\n",
      "Pasadena\n",
      "Columbus\n",
      "Troy\n",
      "Denver\n",
      "Amarillo\n",
      "Long Beach\n",
      "Hialeah\n",
      "San Francisco\n",
      "Scottsdale\n",
      "Decatur\n",
      "Tyler\n",
      "Park Ridge\n",
      "Wheeling\n",
      "Franklin\n",
      "Skokie\n",
      "Yonkers\n",
      "Salem\n",
      "Austin\n",
      "Lakeland\n",
      "Portland\n",
      "Reading\n",
      "Toledo\n",
      "Jackson\n",
      "Tampa\n",
      "Cleveland\n",
      "Fort Collins\n",
      "Lakewood\n",
      "Huntsville\n",
      "Tucson\n",
      "Los Angeles\n",
      "Rochester\n",
      "Mesa\n",
      "Tamarac\n",
      "Greensboro\n",
      "Mentor\n",
      "Mcallen\n",
      "Gilbert\n",
      "Buffalo Grove\n",
      "Parker\n",
      "Champaign\n",
      "Des Plaines\n",
      "Pharr\n",
      "Elmhurst\n",
      "El Paso\n",
      "Tigard\n",
      "Allentown\n",
      "Naperville\n",
      "Pembroke Pines\n",
      "Oceanside\n",
      "Irving\n",
      "Plano\n",
      "Laredo\n",
      "Richardson\n",
      "Gastonia\n",
      "Freeport\n",
      "Bryan\n",
      "Arlington\n",
      "Cranston\n",
      "Highland Park\n",
      "Fort Worth\n",
      "Fairfield\n",
      "Redmond\n",
      "Bristol\n",
      "Normal\n",
      "North Las Vegas\n",
      "Dover\n",
      "San Diego\n",
      "Littleton\n",
      "Pomona\n",
      "Eugene\n",
      "Carol Stream\n",
      "Mesquite\n",
      "Santa Ana\n",
      "Mansfield\n",
      "Akron\n",
      "Daytona Beach\n",
      "Port Arthur\n",
      "Tallahassee\n",
      "College Station\n",
      "Oakland\n",
      "Seattle\n",
      "Plantation\n",
      "Evanston\n",
      "Danville\n",
      "Fayetteville\n",
      "Johnson City\n",
      "Chico\n",
      "Miramar\n",
      "Odessa\n",
      "Hendersonville\n",
      "Santa Barbara\n",
      "Frankfort\n",
      "Lawrence\n",
      "Smyrna\n",
      "York\n",
      "Buffalo\n",
      "Grand Prairie\n",
      "Wilmington\n",
      "Peoria\n",
      "Glendale\n",
      "Clinton\n",
      "Ontario\n",
      "Chandler\n",
      "Chester\n",
      "San Bernardino\n",
      "Hesperia\n",
      "Tempe\n",
      "Saint Charles\n",
      "Commerce City\n",
      "League City\n",
      "Chattanooga\n",
      "Garland\n",
      "Anaheim\n",
      "Allen\n",
      "Vineland\n",
      "San Angelo\n",
      "Boynton Beach\n",
      "Modesto\n",
      "Providence\n",
      "Kent\n",
      "Boca Raton\n",
      "La Porte\n",
      "Corpus Christi\n",
      "Raleigh\n",
      "Baltimore\n",
      "Wilson\n",
      "Bedford\n",
      "Apopka\n",
      "Hamilton\n",
      "Parma\n",
      "Passaic\n",
      "Pearland\n",
      "Gresham\n",
      "Redondo Beach\n",
      "Sacramento\n",
      "Beaumont\n",
      "Mason\n",
      "Frisco\n",
      "Lubbock\n",
      "Avondale\n",
      "Bolingbrook\n",
      "Coral Springs\n",
      "Romeoville\n",
      "Brownsville\n",
      "Harlingen\n",
      "Bakersfield\n",
      "Woodstock\n",
      "Saint Petersburg\n",
      "San Marcos\n",
      "Longmont\n",
      "Broomfield\n",
      "Texas City\n",
      "San Jose\n",
      "Murfreesboro\n",
      "Encinitas\n",
      "Asheville\n",
      "Cuyahoga Falls\n",
      "Cincinnati\n",
      "Morgan Hill\n",
      "Hollywood\n",
      "Deer Park\n",
      "Missouri City\n",
      "Tinley Park\n",
      "Sanford\n",
      "Palm Coast\n",
      "Medford\n",
      "Camarillo\n",
      "Albuquerque\n",
      "Quincy\n",
      "Hillsboro\n",
      "Orlando\n",
      "Durham\n",
      "Bowling Green\n",
      "Monroe\n",
      "Hickory\n",
      "Abilene\n",
      "Deltona\n",
      "Edinburg\n",
      "Altoona\n",
      "Grove City\n",
      "Sunnyvale\n",
      "Des Moines\n",
      "Thomasville\n",
      "Port Saint Lucie\n",
      "Ormond Beach\n",
      "North Miami\n",
      "Pensacola\n",
      "Elyria\n",
      "Loveland\n",
      "Homestead\n",
      "Coppell\n"
     ]
    }
   ],
   "source": [
    "for city in neg_profit[\"City\"].unique():\n",
    "    print(city)"
   ]
  },
  {
   "cell_type": "markdown",
   "id": "6ff47ff0",
   "metadata": {},
   "source": [
    "#### • Calc the percentage of week areas of all"
   ]
  },
  {
   "cell_type": "code",
   "execution_count": 14,
   "id": "b08352d7",
   "metadata": {},
   "outputs": [
    {
     "data": {
      "text/plain": [
       "531"
      ]
     },
     "execution_count": 14,
     "metadata": {},
     "output_type": "execute_result"
    }
   ],
   "source": [
    "len(data[\"City\"].unique())"
   ]
  },
  {
   "cell_type": "code",
   "execution_count": 15,
   "id": "2ba366de",
   "metadata": {},
   "outputs": [
    {
     "data": {
      "text/plain": [
       "229"
      ]
     },
     "execution_count": 15,
     "metadata": {},
     "output_type": "execute_result"
    }
   ],
   "source": [
    "len(neg_profit[\"City\"].unique())"
   ]
  },
  {
   "cell_type": "code",
   "execution_count": 16,
   "id": "9bc83c1a",
   "metadata": {},
   "outputs": [],
   "source": [
    "week_areas_per = (229 / 531) * 100"
   ]
  },
  {
   "cell_type": "code",
   "execution_count": 17,
   "id": "9a75a717",
   "metadata": {},
   "outputs": [
    {
     "data": {
      "text/plain": [
       "43.13"
      ]
     },
     "execution_count": 17,
     "metadata": {},
     "output_type": "execute_result"
    }
   ],
   "source": [
    "np.round(week_areas_per, 2)"
   ]
  },
  {
   "cell_type": "markdown",
   "id": "4dfff36e",
   "metadata": {},
   "source": [
    "#### • Sales"
   ]
  },
  {
   "cell_type": "markdown",
   "id": "11ed35d4",
   "metadata": {},
   "source": [
    "#### •• Total Sales for each Ship Mode"
   ]
  },
  {
   "cell_type": "code",
   "execution_count": 18,
   "id": "1169b863",
   "metadata": {
    "scrolled": true
   },
   "outputs": [
    {
     "data": {
      "text/plain": [
       "Ship Mode\n",
       "Same Day           128363.12\n",
       "First Class        351428.42\n",
       "Second Class       459193.57\n",
       "Standard Class    1358215.74\n",
       "Name: Sales, dtype: float64"
      ]
     },
     "execution_count": 18,
     "metadata": {},
     "output_type": "execute_result"
    }
   ],
   "source": [
    "data.groupby(by = \"Ship Mode\")[\"Sales\"].sum().round(2).sort_values()"
   ]
  },
  {
   "cell_type": "markdown",
   "id": "970dba3d",
   "metadata": {},
   "source": [
    "#### •• Total Sales for each Segment in each Ship Mode"
   ]
  },
  {
   "cell_type": "code",
   "execution_count": 19,
   "id": "e116d9c0",
   "metadata": {},
   "outputs": [
    {
     "data": {
      "text/plain": [
       "Ship Mode       Segment    \n",
       "First Class     Consumer       159168.96\n",
       "                Corporate      105858.47\n",
       "                Home Office     86400.99\n",
       "Same Day        Consumer        60596.36\n",
       "                Corporate       45121.32\n",
       "                Home Office     22645.44\n",
       "Second Class    Consumer       231498.95\n",
       "                Corporate      146126.04\n",
       "                Home Office     81568.58\n",
       "Standard Class  Consumer       710137.07\n",
       "                Corporate      409040.54\n",
       "                Home Office    239038.14\n",
       "Name: Sales, dtype: float64"
      ]
     },
     "execution_count": 19,
     "metadata": {},
     "output_type": "execute_result"
    }
   ],
   "source": [
    "data.groupby(by = [\"Ship Mode\", \"Segment\"])[\"Sales\"].sum().round(2)"
   ]
  },
  {
   "cell_type": "markdown",
   "id": "795439a4",
   "metadata": {},
   "source": [
    "#### •• Total Sales for each Category"
   ]
  },
  {
   "cell_type": "code",
   "execution_count": 20,
   "id": "72053f02",
   "metadata": {},
   "outputs": [
    {
     "data": {
      "text/plain": [
       "Category\n",
       "Office Supplies    719047.03\n",
       "Furniture          741999.80\n",
       "Technology         836154.03\n",
       "Name: Sales, dtype: float64"
      ]
     },
     "execution_count": 20,
     "metadata": {},
     "output_type": "execute_result"
    }
   ],
   "source": [
    "data.groupby(by = \"Category\")[\"Sales\"].sum().round(2).sort_values()"
   ]
  },
  {
   "cell_type": "markdown",
   "id": "cd9b4797",
   "metadata": {},
   "source": [
    "#### •• Total Sales for each Sub Category in each Category"
   ]
  },
  {
   "cell_type": "code",
   "execution_count": 21,
   "id": "231d6c0d",
   "metadata": {},
   "outputs": [
    {
     "data": {
      "text/plain": [
       "Category         Sub-Category\n",
       "Furniture        Bookcases       114880.00\n",
       "                 Chairs          328449.10\n",
       "                 Furnishings      91705.16\n",
       "                 Tables          206965.53\n",
       "Office Supplies  Appliances      107532.16\n",
       "                 Art              27118.79\n",
       "                 Binders         203412.73\n",
       "                 Envelopes        16476.40\n",
       "                 Fasteners         3024.28\n",
       "                 Labels           12486.31\n",
       "                 Paper            78479.21\n",
       "                 Storage         223843.61\n",
       "                 Supplies         46673.54\n",
       "Technology       Accessories     167380.32\n",
       "                 Copiers         149528.03\n",
       "                 Machines        189238.63\n",
       "                 Phones          330007.05\n",
       "Name: Sales, dtype: float64"
      ]
     },
     "execution_count": 21,
     "metadata": {},
     "output_type": "execute_result"
    }
   ],
   "source": [
    "data.groupby(by = [\"Category\", \"Sub-Category\"])[\"Sales\"].sum().round(2)"
   ]
  },
  {
   "cell_type": "markdown",
   "id": "ad274ab7",
   "metadata": {},
   "source": [
    "#### •• Show the Quantity of each Sub Category in each Category"
   ]
  },
  {
   "cell_type": "code",
   "execution_count": 22,
   "id": "032bf788",
   "metadata": {},
   "outputs": [
    {
     "data": {
      "text/plain": [
       "Category         Sub-Category\n",
       "Furniture        Bookcases        868\n",
       "                 Chairs          2356\n",
       "                 Furnishings     3563\n",
       "                 Tables          1241\n",
       "Office Supplies  Appliances      1729\n",
       "                 Art             3000\n",
       "                 Binders         5974\n",
       "                 Envelopes        906\n",
       "                 Fasteners        914\n",
       "                 Labels          1400\n",
       "                 Paper           5178\n",
       "                 Storage         3158\n",
       "                 Supplies         647\n",
       "Technology       Accessories     2976\n",
       "                 Copiers          234\n",
       "                 Machines         440\n",
       "                 Phones          3289\n",
       "Name: Quantity, dtype: int64"
      ]
     },
     "execution_count": 22,
     "metadata": {},
     "output_type": "execute_result"
    }
   ],
   "source": [
    "data.groupby(by = [\"Category\", \"Sub-Category\"])[\"Quantity\"].sum().round(2)"
   ]
  },
  {
   "cell_type": "markdown",
   "id": "cbc6fb06",
   "metadata": {},
   "source": [
    "#### • Max & Min Sales"
   ]
  },
  {
   "cell_type": "markdown",
   "id": "578a7abf",
   "metadata": {},
   "source": [
    "#### •• Max Sales"
   ]
  },
  {
   "cell_type": "code",
   "execution_count": 23,
   "id": "57e6fc17",
   "metadata": {},
   "outputs": [
    {
     "data": {
      "text/html": [
       "<div>\n",
       "<style scoped>\n",
       "    .dataframe tbody tr th:only-of-type {\n",
       "        vertical-align: middle;\n",
       "    }\n",
       "\n",
       "    .dataframe tbody tr th {\n",
       "        vertical-align: top;\n",
       "    }\n",
       "\n",
       "    .dataframe thead th {\n",
       "        text-align: right;\n",
       "    }\n",
       "</style>\n",
       "<table border=\"1\" class=\"dataframe\">\n",
       "  <thead>\n",
       "    <tr style=\"text-align: right;\">\n",
       "      <th></th>\n",
       "      <th>Ship Mode</th>\n",
       "      <th>Segment</th>\n",
       "      <th>Country</th>\n",
       "      <th>City</th>\n",
       "      <th>State</th>\n",
       "      <th>Postal Code</th>\n",
       "      <th>Region</th>\n",
       "      <th>Category</th>\n",
       "      <th>Sub-Category</th>\n",
       "      <th>Sales</th>\n",
       "      <th>Quantity</th>\n",
       "      <th>Discount</th>\n",
       "      <th>Profit</th>\n",
       "    </tr>\n",
       "  </thead>\n",
       "  <tbody>\n",
       "    <tr>\n",
       "      <th>2697</th>\n",
       "      <td>Standard Class</td>\n",
       "      <td>Home Office</td>\n",
       "      <td>United States</td>\n",
       "      <td>Jacksonville</td>\n",
       "      <td>Florida</td>\n",
       "      <td>32216</td>\n",
       "      <td>South</td>\n",
       "      <td>Technology</td>\n",
       "      <td>Machines</td>\n",
       "      <td>22638.48</td>\n",
       "      <td>6</td>\n",
       "      <td>0</td>\n",
       "      <td>-1811.0784</td>\n",
       "    </tr>\n",
       "  </tbody>\n",
       "</table>\n",
       "</div>"
      ],
      "text/plain": [
       "           Ship Mode      Segment        Country          City    State  \\\n",
       "2697  Standard Class  Home Office  United States  Jacksonville  Florida   \n",
       "\n",
       "     Postal Code Region    Category Sub-Category     Sales  Quantity  \\\n",
       "2697       32216  South  Technology     Machines  22638.48         6   \n",
       "\n",
       "      Discount     Profit  \n",
       "2697         0 -1811.0784  "
      ]
     },
     "execution_count": 23,
     "metadata": {},
     "output_type": "execute_result"
    }
   ],
   "source": [
    "data[data[\"Sales\"] == data[\"Sales\"].max()]"
   ]
  },
  {
   "cell_type": "markdown",
   "id": "3cce0db9",
   "metadata": {},
   "source": [
    "#### •• Min Sales"
   ]
  },
  {
   "cell_type": "code",
   "execution_count": 24,
   "id": "3516591a",
   "metadata": {},
   "outputs": [
    {
     "data": {
      "text/html": [
       "<div>\n",
       "<style scoped>\n",
       "    .dataframe tbody tr th:only-of-type {\n",
       "        vertical-align: middle;\n",
       "    }\n",
       "\n",
       "    .dataframe tbody tr th {\n",
       "        vertical-align: top;\n",
       "    }\n",
       "\n",
       "    .dataframe thead th {\n",
       "        text-align: right;\n",
       "    }\n",
       "</style>\n",
       "<table border=\"1\" class=\"dataframe\">\n",
       "  <thead>\n",
       "    <tr style=\"text-align: right;\">\n",
       "      <th></th>\n",
       "      <th>Ship Mode</th>\n",
       "      <th>Segment</th>\n",
       "      <th>Country</th>\n",
       "      <th>City</th>\n",
       "      <th>State</th>\n",
       "      <th>Postal Code</th>\n",
       "      <th>Region</th>\n",
       "      <th>Category</th>\n",
       "      <th>Sub-Category</th>\n",
       "      <th>Sales</th>\n",
       "      <th>Quantity</th>\n",
       "      <th>Discount</th>\n",
       "      <th>Profit</th>\n",
       "    </tr>\n",
       "  </thead>\n",
       "  <tbody>\n",
       "    <tr>\n",
       "      <th>4101</th>\n",
       "      <td>Standard Class</td>\n",
       "      <td>Consumer</td>\n",
       "      <td>United States</td>\n",
       "      <td>Houston</td>\n",
       "      <td>Texas</td>\n",
       "      <td>77095</td>\n",
       "      <td>Central</td>\n",
       "      <td>Office Supplies</td>\n",
       "      <td>Appliances</td>\n",
       "      <td>0.444</td>\n",
       "      <td>1</td>\n",
       "      <td>0</td>\n",
       "      <td>-1.11</td>\n",
       "    </tr>\n",
       "  </tbody>\n",
       "</table>\n",
       "</div>"
      ],
      "text/plain": [
       "           Ship Mode   Segment        Country     City  State Postal Code  \\\n",
       "4101  Standard Class  Consumer  United States  Houston  Texas       77095   \n",
       "\n",
       "       Region         Category Sub-Category  Sales  Quantity  Discount  Profit  \n",
       "4101  Central  Office Supplies   Appliances  0.444         1         0   -1.11  "
      ]
     },
     "execution_count": 24,
     "metadata": {},
     "output_type": "execute_result"
    }
   ],
   "source": [
    "data[data[\"Sales\"] == data[\"Sales\"].min()]"
   ]
  },
  {
   "cell_type": "markdown",
   "id": "3e31d65a",
   "metadata": {},
   "source": [
    "#### • Max Profit & Min Profit"
   ]
  },
  {
   "cell_type": "markdown",
   "id": "00eae470",
   "metadata": {},
   "source": [
    "#### •• Max Profit"
   ]
  },
  {
   "cell_type": "code",
   "execution_count": 25,
   "id": "aec5dcc7",
   "metadata": {},
   "outputs": [
    {
     "data": {
      "text/html": [
       "<div>\n",
       "<style scoped>\n",
       "    .dataframe tbody tr th:only-of-type {\n",
       "        vertical-align: middle;\n",
       "    }\n",
       "\n",
       "    .dataframe tbody tr th {\n",
       "        vertical-align: top;\n",
       "    }\n",
       "\n",
       "    .dataframe thead th {\n",
       "        text-align: right;\n",
       "    }\n",
       "</style>\n",
       "<table border=\"1\" class=\"dataframe\">\n",
       "  <thead>\n",
       "    <tr style=\"text-align: right;\">\n",
       "      <th></th>\n",
       "      <th>Ship Mode</th>\n",
       "      <th>Segment</th>\n",
       "      <th>Country</th>\n",
       "      <th>City</th>\n",
       "      <th>State</th>\n",
       "      <th>Postal Code</th>\n",
       "      <th>Region</th>\n",
       "      <th>Category</th>\n",
       "      <th>Sub-Category</th>\n",
       "      <th>Sales</th>\n",
       "      <th>Quantity</th>\n",
       "      <th>Discount</th>\n",
       "      <th>Profit</th>\n",
       "    </tr>\n",
       "  </thead>\n",
       "  <tbody>\n",
       "    <tr>\n",
       "      <th>6826</th>\n",
       "      <td>Standard Class</td>\n",
       "      <td>Corporate</td>\n",
       "      <td>United States</td>\n",
       "      <td>Lafayette</td>\n",
       "      <td>Indiana</td>\n",
       "      <td>47905</td>\n",
       "      <td>Central</td>\n",
       "      <td>Technology</td>\n",
       "      <td>Copiers</td>\n",
       "      <td>17499.95</td>\n",
       "      <td>5</td>\n",
       "      <td>0</td>\n",
       "      <td>8399.976</td>\n",
       "    </tr>\n",
       "  </tbody>\n",
       "</table>\n",
       "</div>"
      ],
      "text/plain": [
       "           Ship Mode    Segment        Country       City    State  \\\n",
       "6826  Standard Class  Corporate  United States  Lafayette  Indiana   \n",
       "\n",
       "     Postal Code   Region    Category Sub-Category     Sales  Quantity  \\\n",
       "6826       47905  Central  Technology      Copiers  17499.95         5   \n",
       "\n",
       "      Discount    Profit  \n",
       "6826         0  8399.976  "
      ]
     },
     "execution_count": 25,
     "metadata": {},
     "output_type": "execute_result"
    }
   ],
   "source": [
    "data[data[\"Profit\"] == data[\"Profit\"].max()]"
   ]
  },
  {
   "cell_type": "markdown",
   "id": "23185cc9",
   "metadata": {},
   "source": [
    "#### •• Min Profit"
   ]
  },
  {
   "cell_type": "code",
   "execution_count": 26,
   "id": "98013c4b",
   "metadata": {},
   "outputs": [
    {
     "data": {
      "text/html": [
       "<div>\n",
       "<style scoped>\n",
       "    .dataframe tbody tr th:only-of-type {\n",
       "        vertical-align: middle;\n",
       "    }\n",
       "\n",
       "    .dataframe tbody tr th {\n",
       "        vertical-align: top;\n",
       "    }\n",
       "\n",
       "    .dataframe thead th {\n",
       "        text-align: right;\n",
       "    }\n",
       "</style>\n",
       "<table border=\"1\" class=\"dataframe\">\n",
       "  <thead>\n",
       "    <tr style=\"text-align: right;\">\n",
       "      <th></th>\n",
       "      <th>Ship Mode</th>\n",
       "      <th>Segment</th>\n",
       "      <th>Country</th>\n",
       "      <th>City</th>\n",
       "      <th>State</th>\n",
       "      <th>Postal Code</th>\n",
       "      <th>Region</th>\n",
       "      <th>Category</th>\n",
       "      <th>Sub-Category</th>\n",
       "      <th>Sales</th>\n",
       "      <th>Quantity</th>\n",
       "      <th>Discount</th>\n",
       "      <th>Profit</th>\n",
       "    </tr>\n",
       "  </thead>\n",
       "  <tbody>\n",
       "    <tr>\n",
       "      <th>7772</th>\n",
       "      <td>Standard Class</td>\n",
       "      <td>Consumer</td>\n",
       "      <td>United States</td>\n",
       "      <td>Lancaster</td>\n",
       "      <td>Ohio</td>\n",
       "      <td>43130</td>\n",
       "      <td>East</td>\n",
       "      <td>Technology</td>\n",
       "      <td>Machines</td>\n",
       "      <td>4499.985</td>\n",
       "      <td>5</td>\n",
       "      <td>0</td>\n",
       "      <td>-6599.978</td>\n",
       "    </tr>\n",
       "  </tbody>\n",
       "</table>\n",
       "</div>"
      ],
      "text/plain": [
       "           Ship Mode   Segment        Country       City State Postal Code  \\\n",
       "7772  Standard Class  Consumer  United States  Lancaster  Ohio       43130   \n",
       "\n",
       "     Region    Category Sub-Category     Sales  Quantity  Discount    Profit  \n",
       "7772   East  Technology     Machines  4499.985         5         0 -6599.978  "
      ]
     },
     "execution_count": 26,
     "metadata": {},
     "output_type": "execute_result"
    }
   ],
   "source": [
    "data[data[\"Profit\"] == data[\"Profit\"].min()]"
   ]
  },
  {
   "cell_type": "markdown",
   "id": "03c9cc22",
   "metadata": {},
   "source": [
    "### Data Visualization"
   ]
  },
  {
   "cell_type": "markdown",
   "id": "36d352d8",
   "metadata": {},
   "source": [
    "#### • Each ship mode Sales and show its percentage of all"
   ]
  },
  {
   "cell_type": "code",
   "execution_count": 27,
   "id": "38667d4b",
   "metadata": {},
   "outputs": [],
   "source": [
    "ship_modes = [\"Same Mode\",  \"First Class\", \"Second Class\", \"Standard Class\"]\n",
    "ship_modes_sales = [128363.12, 351428.42, 459193.57, 1358215.74]\n",
    "colors = [\"#C85250\", \"#E5C101\", \"#E5C101\", \"#18A558\"]"
   ]
  },
  {
   "cell_type": "code",
   "execution_count": 28,
   "id": "90afa44c",
   "metadata": {},
   "outputs": [
    {
     "data": {
      "image/png": "[encoded data removed]",
      "text/plain": [
       "<Figure size 576x396 with 2 Axes>"
      ]
     },
     "metadata": {},
     "output_type": "display_data"
    }
   ],
   "source": [
    "plt.style.use('seaborn')\n",
    "fig, ax = plt.subplots(nrows = 1, ncols = 2)\n",
    "ax[0].bar(ship_modes, ship_modes_sales, width = .3, color = colors)\n",
    "ax[1].pie(ship_modes_sales, labels = ship_modes, colors = colors, autopct = \"%1.1f%%\",startangle = 0, wedgeprops = {\"edgecolor\":\"white\", \"linewidth\":0.5})\n",
    "fig.tight_layout(pad = 0.1)\n",
    "plt.show()"
   ]
  },
  {
   "cell_type": "markdown",
   "id": "4ea00f75",
   "metadata": {},
   "source": [
    "#### • More ship mode details ( Each Ship mode segement sales )"
   ]
  },
  {
   "cell_type": "code",
   "execution_count": 29,
   "id": "2f2cf537",
   "metadata": {},
   "outputs": [],
   "source": [
    "segment = [\"Consumer\", \"Corporate\", \"Home Office\"]\n",
    "first_class_seg_sales = [159168.96, 105858.47, 105858.47]\n",
    "same_day_seg_sales = [60596.36, 45121.32, 22645.44]\n",
    "second_class_seg_sales = [231498.95, 146126.04, 81568.58]\n",
    "standard_class_seg_sales = [710137.07, 409040.54, 239038.14]"
   ]
  },
  {
   "cell_type": "code",
   "execution_count": 30,
   "id": "0bb3c9b4",
   "metadata": {},
   "outputs": [
    {
     "data": {
      "image/png": "[encoded data removed]",
      "text/plain": [
       "<Figure size 576x432 with 1 Axes>"
      ]
     },
     "metadata": {},
     "output_type": "display_data"
    }
   ],
   "source": [
    "plt.style.use(\"seaborn\")\n",
    "plt.figure(figsize = (8, 6))\n",
    "index = np.arange(len(segment))\n",
    "width = 0.2\n",
    "plt.bar(index, first_class_seg_sales, width = width, color = \"#FFB067\", label = \"Fisrt Class\")\n",
    "plt.bar(index + width, same_day_seg_sales, width = width, color = \"#C85250\", label = \"Same Day\")\n",
    "plt.bar(index + (2 * width), second_class_seg_sales, width = width, color = \"#E5C101\", label = \"Second Class\")\n",
    "plt.bar(index + (3 * width), standard_class_seg_sales, width = width, color = \"#18A558\", label = \"Standard Class\")\n",
    "plt.xticks(index + width, segment)\n",
    "plt.legend()\n",
    "plt.show()"
   ]
  },
  {
   "cell_type": "markdown",
   "id": "010b8895",
   "metadata": {},
   "source": [
    "#### • Each Category Sales"
   ]
  },
  {
   "cell_type": "code",
   "execution_count": 31,
   "id": "48c80a5c",
   "metadata": {
    "scrolled": true
   },
   "outputs": [],
   "source": [
    "categories = [\"Office Supplies\", \"Furniture\",\"Technology\"]\n",
    "cat_sales = [719047.03, 741999.80, 836154.03]        \n",
    "colors = [\"#B2D2A4\", \"#88CA5E\", \"#18A558\"]"
   ]
  },
  {
   "cell_type": "code",
   "execution_count": 32,
   "id": "b3e260d9",
   "metadata": {},
   "outputs": [
    {
     "data": {
      "image/png": "[encoded data removed]",
      "text/plain": [
       "<Figure size 576x396 with 2 Axes>"
      ]
     },
     "metadata": {},
     "output_type": "display_data"
    }
   ],
   "source": [
    "plt.style.use('seaborn')\n",
    "fig, ax = plt.subplots(nrows = 1, ncols = 2)\n",
    "ax[0].bar(categories, cat_sales, width = .3, color = colors)\n",
    "ax[1].pie(cat_sales, labels = categories, colors = colors, autopct = \"%1.1f%%\",startangle = 0, wedgeprops = {\"edgecolor\":\"white\", \"linewidth\":0.5})\n",
    "fig.tight_layout(pad = 0.1)\n",
    "plt.show()"
   ]
  },
  {
   "cell_type": "markdown",
   "id": "ad95eb5c",
   "metadata": {},
   "source": [
    "#### • More categories details ( Each sub category sales in each category )"
   ]
  },
  {
   "cell_type": "code",
   "execution_count": 33,
   "id": "9a8e1b30",
   "metadata": {},
   "outputs": [],
   "source": [
    "fur_subcat = [\"Bookcases\", \"Chairs\", \"Furnishings\", \"Tables\"]\n",
    "fur_subcat_sales = [114880.00, 328449.10, 91705.16, 206965.53]\n",
    "office_subcat = [\"Appliances\", \"Art\", \"Binders\", \"Envelopes\", \"Fasteners\", \"Labels\", \"Paper\", \"Storage\", \"Supplies\"]\n",
    "office_subcat_sales = [107532.16, 27118.79, 203412.73, 16476.40, 3024.28, 12486.31, 78479.21, 223843.61, 46673.54]\n",
    "tech_subcat = [\"Accessories\", \"Copiers\", \"Machines\", \"Phones\"]\n",
    "tech_subcat_sales = [167380.32, 149528.03, 189238.63, 330007.05]\n",
    "colors = [\"#C85250\", \"#E5C101\", \"#E5C101\", \"#18A558\"]\n",
    "c1 = [\"#E5C101\", \"#18A558\",\"#C85250\", \"#E5C101\"]\n",
    "c2 = [\"#E5C101\", \"#C85250\", \"#18A558\", \"#C85250\", \"#C85250\", \"#C85250\", \"#E5C101\", \"#18A558\", \"#E5C101\"]\n",
    "c3 = [\"#E5C101\", \"#E5C101\", \"#E5C101\",\"#18A558\"]"
   ]
  },
  {
   "cell_type": "code",
   "execution_count": 34,
   "id": "0cc0ec14",
   "metadata": {},
   "outputs": [
    {
     "data": {
      "image/png": "[encoded data removed]",
      "text/plain": [
       "<Figure size 576x396 with 3 Axes>"
      ]
     },
     "metadata": {},
     "output_type": "display_data"
    }
   ],
   "source": [
    "plt.style.use('seaborn')\n",
    "fig, ax = plt.subplots(nrows = 3, ncols = 1)\n",
    "ax[0].bar(fur_subcat, fur_subcat_sales, width = .1, color = c1)\n",
    "ax[0].set_title(\"Furniture\")\n",
    "ax[1].bar(office_subcat, office_subcat_sales, width = .27, color = c2)\n",
    "ax[1].set_title(\"Office Supplies\")\n",
    "ax[2].bar(tech_subcat, tech_subcat_sales, width = .1, color = c3)\n",
    "ax[2].set_title(\"Technology\")\n",
    "fig.tight_layout(pad = 1)\n",
    "plt.show()"
   ]
  },
  {
   "cell_type": "markdown",
   "id": "d3f74740",
   "metadata": {},
   "source": [
    "#### • More categories details ( Each sub category quantity in each category )"
   ]
  },
  {
   "cell_type": "code",
   "execution_count": 35,
   "id": "8f16ac30",
   "metadata": {},
   "outputs": [],
   "source": [
    "fur_subcat = [\"Bookcases\", \"Chairs\", \"Furnishings\", \"Tables\"]\n",
    "fur_subcat_quan = [868, 2356, 3563, 1241]\n",
    "office_subcat = [\"Appliances\", \"Art\", \"Binders\", \"Envelopes\", \"Fasteners\", \"Labels\", \"Paper\", \"Storage\", \"Supplies\"]\n",
    "office_subcat_quan = [1729, 3000, 5974, 906, 906, 1400, 5178, 3158, 647]\n",
    "tech_subcat = [\"Accessories\", \"Copiers\", \"Machines\", \"Phones\"]\n",
    "tech_subcat_quan = [2976, 234, 440, 3289]\n",
    "c4 = [\"#C85250\" , \"#E5C101\", \"#18A558\", \"#E5C101\"]\n",
    "c5 = [\"#C85250\", \"#E5C101\", \"#18A558\", \"#C85250\", \"#C85250\", \"#C85250\", \"#18A558\", \"#E5C101\", \"#C85250\"]\n",
    "c6 = [\"#18A558\", \"#C85250\", \"#C85250\", \"#18A558\"]"
   ]
  },
  {
   "cell_type": "code",
   "execution_count": 36,
   "id": "19635093",
   "metadata": {},
   "outputs": [
    {
     "data": {
      "image/png": "[encoded data removed]",
      "text/plain": [
       "<Figure size 576x396 with 3 Axes>"
      ]
     },
     "metadata": {},
     "output_type": "display_data"
    }
   ],
   "source": [
    "plt.style.use('seaborn')\n",
    "fig, ax = plt.subplots(nrows = 3, ncols = 1)\n",
    "ax[0].bar(fur_subcat, fur_subcat_quan, width = .1, color = c4)\n",
    "ax[0].set_title(\"Furniture\")\n",
    "ax[1].bar(office_subcat, office_subcat_quan, width = .27, color = c5)\n",
    "ax[1].set_title(\"Office Supplies\")\n",
    "ax[2].bar(tech_subcat, tech_subcat_quan, width = .1, color = c6)\n",
    "ax[2].set_title(\"Technology\")\n",
    "fig.tight_layout(pad = 1)\n",
    "plt.show()"
   ]
  },
  {
   "cell_type": "markdown",
   "id": "fe463945",
   "metadata": {},
   "source": [
    "#### • Relation between sales & quantities"
   ]
  },
  {
   "cell_type": "code",
   "execution_count": 37,
   "id": "adc322b5",
   "metadata": {},
   "outputs": [
    {
     "data": {
      "image/png": "[encoded data removed]",
      "text/plain": [
       "<Figure size 576x396 with 1 Axes>"
      ]
     },
     "metadata": {},
     "output_type": "display_data"
    }
   ],
   "source": [
    "plt.style.use(\"seaborn\")\n",
    "sns.scatterplot(x = data[\"Quantity\"], y = data[\"Sales\"], color = \"#000033\")\n",
    "plt.show()"
   ]
  },
  {
   "cell_type": "markdown",
   "id": "a3601eee",
   "metadata": {},
   "source": [
    "#### • Relation between sales & profit"
   ]
  },
  {
   "cell_type": "code",
   "execution_count": 38,
   "id": "409add3b",
   "metadata": {},
   "outputs": [
    {
     "data": {
      "image/png": "[encoded data removed]",
      "text/plain": [
       "<Figure size 576x396 with 1 Axes>"
      ]
     },
     "metadata": {},
     "output_type": "display_data"
    }
   ],
   "source": [
    "plt.style.use(\"seaborn\")\n",
    "sns.scatterplot(x = data[\"Sales\"], y = data[\"Profit\"], color = \"#000033\")\n",
    "plt.show()"
   ]
  },
  {
   "cell_type": "markdown",
   "id": "abcc726c",
   "metadata": {},
   "source": [
    "#### • Relation between sales & discount"
   ]
  },
  {
   "cell_type": "code",
   "execution_count": 39,
   "id": "2e1bde5e",
   "metadata": {},
   "outputs": [
    {
     "data": {
      "image/png": "[encoded data removed]",
      "text/plain": [
       "<Figure size 576x396 with 1 Axes>"
      ]
     },
     "metadata": {},
     "output_type": "display_data"
    }
   ],
   "source": [
    "plt.style.use(\"seaborn\")\n",
    "sns.scatterplot(x = data[\"Sales\"], y = data[\"Discount\"], color = \"#000033\")\n",
    "plt.show()"
   ]
  },
  {
   "cell_type": "markdown",
   "id": "557cfc67",
   "metadata": {},
   "source": [
    "### Business problems :\n",
    "#### • There are 43.13% of total areas have negative profit.\n",
    "#### • There is a difference between ship mode ( Standard is the best ).\n",
    "#### • Company should try to increase discounts to increase sales.\n",
    "#### • There is a disparity between cities in terms of the amount of sales , profit and other things.\n"
   ]
  },
  {
   "cell_type": "code",
   "execution_count": null,
   "id": "735c9413",
   "metadata": {},
   "outputs": [],
   "source": []
  }
 ],
 "metadata": {
  "kernelspec": {
   "display_name": "Python 3 (ipykernel)",
   "language": "python",
   "name": "python3"
  },
  "language_info": {
   "codemirror_mode": {
    "name": "ipython",
    "version": 3
   },
   "file_extension": ".py",
   "mimetype": "text/x-python",
   "name": "python",
   "nbconvert_exporter": "python",
   "pygments_lexer": "ipython3",
   "version": "3.9.7"
  }
 },
 "nbformat": 4,
 "nbformat_minor": 5
}
